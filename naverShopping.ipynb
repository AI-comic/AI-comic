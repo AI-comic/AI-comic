from selenium import webdriver
from selenium.webdriver.chrome.options import Options
from selenium.webdriver.common.by import By
from selenium.webdriver.support.ui import WebDriverWait
from selenium.webdriver.support import expected_conditions as EC
import time
import csv

chrome_options = Options()
chrome_options.add_argument("--headless")  # 브라우저를 화면에 표시하지 않고 실행 (디버깅 시 주석 제거)
driver = webdriver.Chrome(options=chrome_options)

try:
    url = 'https://shopping.naver.com/plan2/p/experience.naver?freeTrialStatusSearchType=RECRUITING'
    driver.get(url)
    
    # 명시적 대기
    wait = WebDriverWait(driver, 10)
    wait.until(EC.presence_of_element_located((By.CSS_SELECTOR, '.free_section_cell')))

    # 데이터 리스트 초기화
    data = []
    
    # 아이템 찾기
    items = driver.find_elements(By.CSS_SELECTOR, '.free_section_cell')

    for item in items:
        try:            
            category = item.find_element(By.CSS_SELECTOR, '.window').text
            title = item.find_element(By.CSS_SELECTOR, '.title').text
            date_range = item.find_element(By.CSS_SELECTOR, '.desc_cell').text
            number_of_people = item.find_elements(By.CSS_SELECTOR, '.desc_cell')[1].text
            image_url = item.find_element(By.CSS_SELECTOR, '.thumb img').get_attribute('src')
            
            link_element = item.find_element(By.CSS_SELECTOR, 'a')
            link = link_element.get_attribute('href')

            data.append([category, title, date_range, number_of_people, image_url, link])
            print([category, title, date_range, number_of_people, image_url, link])
        except Exception as e:
            print(f"Error while processing an item: {e}")

    # 데이터 저장
    filename = "naver_free_trial_data.csv"
    with open(filename, "w", encoding="utf-8-sig", newline="") as f:
        writer = csv.writer(f)
        writer.writerow(["Category", "Title", "Date Range", "Number of People", "Image URL", "Link"])
        writer.writerows(data)

    print(f"Data saved to {filename}")

finally:
    driver.quit()
